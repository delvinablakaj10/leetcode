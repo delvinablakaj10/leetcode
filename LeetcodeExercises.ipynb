{
  "nbformat": 4,
  "nbformat_minor": 0,
  "metadata": {
    "colab": {
      "provenance": [],
      "authorship_tag": "ABX9TyMEHwseBVBU9YjuDsZT+4UT",
      "include_colab_link": true
    },
    "kernelspec": {
      "name": "python3",
      "display_name": "Python 3"
    },
    "language_info": {
      "name": "python"
    }
  },
  "cells": [
    {
      "cell_type": "markdown",
      "metadata": {
        "id": "view-in-github",
        "colab_type": "text"
      },
      "source": [
        "<a href=\"https://colab.research.google.com/github/delvinablakaj10/leetcode/blob/main/LeetcodeExercises.ipynb\" target=\"_parent\"><img src=\"https://colab.research.google.com/assets/colab-badge.svg\" alt=\"Open In Colab\"/></a>"
      ]
    },
    {
      "cell_type": "markdown",
      "source": [
        "**13.Roman to numerals**\n",
        "Roman numerals are represented by seven different symbols: I, V, X, L, C, D and M.\n",
        "\n",
        "Symbol       Value\n",
        "I             1\n",
        "V             5\n",
        "X             10\n",
        "L             50\n",
        "C             100\n",
        "D             500\n",
        "M             1000\n",
        "For example, 2 is written as II in Roman numeral, just two ones added together. 12 is written as XII, which is simply X + II. The number 27 is written as XXVII, which is XX + V + II.\n",
        "\n",
        "Roman numerals are usually written largest to smallest from left to right. However, the numeral for four is not IIII. Instead, the number four is written as IV. Because the one is before the five we subtract it making four. The same principle applies to the number nine, which is written as IX. There are six instances where subtraction is used:\n",
        "\n",
        "I can be placed before V (5) and X (10) to make 4 and 9.\n",
        "X can be placed before L (50) and C (100) to make 40 and 90.\n",
        "C can be placed before D (500) and M (1000) to make 400 and 900.\n",
        "Given a roman numeral, convert it to an integer.\n",
        "\n",
        "\n",
        "\n",
        "Example 1:\n",
        "\n",
        "Input: s = \"III\"\n",
        "Output: 3\n",
        "Explanation: III = 3.\n",
        "Example 2:\n",
        "\n",
        "Input: s = \"LVIII\"\n",
        "Output: 58\n",
        "Explanation: L = 50, V= 5, III = 3.\n",
        "Example 3:\n",
        "\n",
        "Input: s = \"MCMXCIV\"\n",
        "Output: 1994\n",
        "Explanation: M = 1000, CM = 900, XC = 90 and IV = 4.\n",
        "\n",
        "\n",
        "Constraints:\n",
        "\n",
        "1 <= s.length <= 15\n",
        "s contains only the characters ('I', 'V', 'X', 'L', 'C', 'D', 'M').\n",
        "It is guaranteed that s is a valid roman numeral in the range [1, 3999].\n",
        "\n"
      ],
      "metadata": {
        "id": "AIslA0Gw0JqG"
      }
    },
    {
      "cell_type": "markdown",
      "source": [],
      "metadata": {
        "id": "XTpG_0L99qdI"
      }
    },
    {
      "cell_type": "code",
      "execution_count": null,
      "metadata": {
        "id": "WKQvHUUkz_C-"
      },
      "outputs": [],
      "source": [
        "\n",
        "class Solution:\n",
        "    def romanToInt(self, s: str) -> int:\n",
        "        # Dictionary of Roman numerals and their integer values\n",
        "        roman_map = {'I': 1, 'V': 5, 'X': 10, 'L': 50, 'C': 100, 'D': 500, 'M': 1000}\n",
        "\n",
        "        total = 0\n",
        "        prev_value = 0\n",
        "\n",
        "        # Loop through each character in the Roman numeral string in reverse order\n",
        "        for char in reversed(s):\n",
        "            # Get the integer value of the current Roman numeral character\n",
        "            value = roman_map[char]\n",
        "\n",
        "            # If the current value is less than the previous value, subtract\n",
        "            if value < prev_value:\n",
        "                total -= value\n",
        "            else:\n",
        "                # Otherwise, add it to the total\n",
        "                total += value\n",
        "\n",
        "            # Update previous value for next iteration\n",
        "            prev_value = value\n",
        "\n",
        "        return total\n",
        "\n",
        "\n",
        "\n"
      ]
    },
    {
      "cell_type": "markdown",
      "source": [
        "# 14. Longest Common Prefix\n",
        "Write a function to find the longest common prefix string amongst an array of strings.\n",
        "\n",
        "If there is no common prefix, return an empty string \"\".\n",
        "\n",
        "\n",
        "\n",
        "Example 1:\n",
        "\n",
        "Input: strs = [\"flower\",\"flow\",\"flight\"]\n",
        "Output: \"fl\"\n",
        "Example 2:\n",
        "\n",
        "Input: strs = [\"dog\",\"racecar\",\"car\"]\n",
        "Output: \"\"\n",
        "Explanation: There is no common prefix among the input strings.\n",
        "\n",
        "\n",
        "Constraints:\n",
        "\n",
        "1 <= strs.length <= 200\n",
        "0 <= strs[i].length <= 200\n",
        "strs[i] consists of only lowercase English letters."
      ],
      "metadata": {
        "id": "BdhGRPfq2w2-"
      }
    },
    {
      "cell_type": "code",
      "source": [
        " if not strs:\n",
        "        return \"\"\n",
        "\n",
        "    # Find the shortest string in the list\n",
        "    shortest = min(strs, key=len)\n",
        "\n",
        "    # Compare this shortest string with the rest of the strings\n",
        "    for s in strs:\n",
        "        while s.find(shortest) != 0:\n",
        "            # Shorten the prefix if necessary\n",
        "            shortest = shortest[:-1]\n",
        "            # If the prefix becomes empty, return \"\"\n",
        "            if not shortest:\n",
        "                return \"\"\n",
        "\n",
        "    return shortest"
      ],
      "metadata": {
        "id": "1FLAPzWw2wHl"
      },
      "execution_count": null,
      "outputs": []
    },
    {
      "cell_type": "markdown",
      "source": [],
      "metadata": {
        "id": "O885a1J49sGk"
      }
    },
    {
      "cell_type": "markdown",
      "source": [
        "14. Valid Parenthesis\n",
        "Given a string s containing just the characters '(', ')', '{', '}', '[' and ']', determine if the input string is valid.\n",
        "\n",
        "An input string is valid if:\n",
        "\n",
        "Open brackets must be closed by the same type of brackets.\n",
        "Open brackets must be closed in the correct order.\n",
        "Every close bracket has a corresponding open bracket of the same type.\n",
        "\n",
        "\n",
        "Example 1:\n",
        "\n",
        "Input: s = \"()\"\n",
        "\n",
        "Output: true\n",
        "\n",
        "Example 2:\n",
        "\n",
        "Input: s = \"()[]{}\"\n",
        "\n",
        "Output: true\n",
        "\n",
        "Example 3:\n",
        "\n",
        "Input: s = \"(]\"\n",
        "\n",
        "Output: false\n",
        "\n",
        "Example 4:\n",
        "\n",
        "Input: s = \"([])\"\n",
        "\n",
        "Output: true\n",
        "\n",
        "\n",
        "\n",
        "Constraints:\n",
        "\n",
        "1 <= s.length <= 104\n",
        "s consists of parentheses only '()[]{}'."
      ],
      "metadata": {
        "id": "UuZEMngu1sp6"
      }
    },
    {
      "cell_type": "code",
      "source": [
        "class Solution:\n",
        "    def isValid(self, s: str) -> bool:\n",
        "        stack = []\n",
        "        bracket_map = {')': '(', '}': '{', ']': '['}\n",
        "\n",
        "        for char in s:\n",
        "            if char in bracket_map:\n",
        "                # If stack is empty, we set top_element to a dummy value '#'\n",
        "                top_element = stack.pop() if stack else '#'\n",
        "                if bracket_map[char] != top_element:\n",
        "                    return False\n",
        "            else:\n",
        "                stack.append(char)\n",
        "\n",
        "        return not stack"
      ],
      "metadata": {
        "id": "2zYzIguD9rYO"
      },
      "execution_count": null,
      "outputs": []
    }
  ]
}