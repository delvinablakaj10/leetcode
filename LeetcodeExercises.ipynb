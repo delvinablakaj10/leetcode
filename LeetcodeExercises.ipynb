{
  "nbformat": 4,
  "nbformat_minor": 0,
  "metadata": {
    "colab": {
      "provenance": [],
      "authorship_tag": "ABX9TyMk2e5rAJ2VHId6jwc6F/jw",
      "include_colab_link": true
    },
    "kernelspec": {
      "name": "python3",
      "display_name": "Python 3"
    },
    "language_info": {
      "name": "python"
    }
  },
  "cells": [
    {
      "cell_type": "markdown",
      "metadata": {
        "id": "view-in-github",
        "colab_type": "text"
      },
      "source": [
        "<a href=\"https://colab.research.google.com/github/delvinablakaj10/leetcode/blob/main/LeetcodeExercises.ipynb\" target=\"_parent\"><img src=\"https://colab.research.google.com/assets/colab-badge.svg\" alt=\"Open In Colab\"/></a>"
      ]
    },
    {
      "cell_type": "markdown",
      "source": [
        "**13.Roman to numerals**\n",
        "Roman numerals are represented by seven different symbols: I, V, X, L, C, D and M.\n",
        "\n",
        "Symbol       Value\n",
        "I             1\n",
        "V             5\n",
        "X             10\n",
        "L             50\n",
        "C             100\n",
        "D             500\n",
        "M             1000\n",
        "For example, 2 is written as II in Roman numeral, just two ones added together. 12 is written as XII, which is simply X + II. The number 27 is written as XXVII, which is XX + V + II.\n",
        "\n",
        "Roman numerals are usually written largest to smallest from left to right. However, the numeral for four is not IIII. Instead, the number four is written as IV. Because the one is before the five we subtract it making four. The same principle applies to the number nine, which is written as IX. There are six instances where subtraction is used:\n",
        "\n",
        "I can be placed before V (5) and X (10) to make 4 and 9.\n",
        "X can be placed before L (50) and C (100) to make 40 and 90.\n",
        "C can be placed before D (500) and M (1000) to make 400 and 900.\n",
        "Given a roman numeral, convert it to an integer.\n",
        "\n",
        "\n",
        "\n",
        "Example 1:\n",
        "\n",
        "Input: s = \"III\"\n",
        "Output: 3\n",
        "Explanation: III = 3.\n",
        "Example 2:\n",
        "\n",
        "Input: s = \"LVIII\"\n",
        "Output: 58\n",
        "Explanation: L = 50, V= 5, III = 3.\n",
        "Example 3:\n",
        "\n",
        "Input: s = \"MCMXCIV\"\n",
        "Output: 1994\n",
        "Explanation: M = 1000, CM = 900, XC = 90 and IV = 4.\n",
        "\n",
        "\n",
        "Constraints:\n",
        "\n",
        "1 <= s.length <= 15\n",
        "s contains only the characters ('I', 'V', 'X', 'L', 'C', 'D', 'M').\n",
        "It is guaranteed that s is a valid roman numeral in the range [1, 3999].\n",
        "\n"
      ],
      "metadata": {
        "id": "AIslA0Gw0JqG"
      }
    },
    {
      "cell_type": "markdown",
      "source": [],
      "metadata": {
        "id": "XTpG_0L99qdI"
      }
    },
    {
      "cell_type": "code",
      "execution_count": null,
      "metadata": {
        "id": "WKQvHUUkz_C-"
      },
      "outputs": [],
      "source": [
        "\n",
        "class Solution:\n",
        "    def romanToInt(self, s: str) -> int:\n",
        "        # Dictionary of Roman numerals and their integer values\n",
        "        roman_map = {'I': 1, 'V': 5, 'X': 10, 'L': 50, 'C': 100, 'D': 500, 'M': 1000}\n",
        "\n",
        "        total = 0\n",
        "        prev_value = 0\n",
        "\n",
        "        # Loop through each character in the Roman numeral string in reverse order\n",
        "        for char in reversed(s):\n",
        "            # Get the integer value of the current Roman numeral character\n",
        "            value = roman_map[char]\n",
        "\n",
        "            # If the current value is less than the previous value, subtract\n",
        "            if value < prev_value:\n",
        "                total -= value\n",
        "            else:\n",
        "                # Otherwise, add it to the total\n",
        "                total += value\n",
        "\n",
        "            # Update previous value for next iteration\n",
        "            prev_value = value\n",
        "\n",
        "        return total\n",
        "\n",
        "\n",
        "\n"
      ]
    },
    {
      "cell_type": "markdown",
      "source": [
        "# 14. Longest Common Prefix\n",
        "Write a function to find the longest common prefix string amongst an array of strings.\n",
        "\n",
        "If there is no common prefix, return an empty string \"\".\n",
        "\n",
        "\n",
        "\n",
        "Example 1:\n",
        "\n",
        "Input: strs = [\"flower\",\"flow\",\"flight\"]\n",
        "Output: \"fl\"\n",
        "Example 2:\n",
        "\n",
        "Input: strs = [\"dog\",\"racecar\",\"car\"]\n",
        "Output: \"\"\n",
        "Explanation: There is no common prefix among the input strings.\n",
        "\n",
        "\n",
        "Constraints:\n",
        "\n",
        "1 <= strs.length <= 200\n",
        "0 <= strs[i].length <= 200\n",
        "strs[i] consists of only lowercase English letters."
      ],
      "metadata": {
        "id": "BdhGRPfq2w2-"
      }
    },
    {
      "cell_type": "code",
      "source": [
        " if not strs:\n",
        "        return \"\"\n",
        "\n",
        "    # Find the shortest string in the list\n",
        "    shortest = min(strs, key=len)\n",
        "\n",
        "    # Compare this shortest string with the rest of the strings\n",
        "    for s in strs:\n",
        "        while s.find(shortest) != 0:\n",
        "            # Shorten the prefix if necessary\n",
        "            shortest = shortest[:-1]\n",
        "            # If the prefix becomes empty, return \"\"\n",
        "            if not shortest:\n",
        "                return \"\"\n",
        "\n",
        "    return shortest"
      ],
      "metadata": {
        "id": "1FLAPzWw2wHl"
      },
      "execution_count": null,
      "outputs": []
    },
    {
      "cell_type": "markdown",
      "source": [],
      "metadata": {
        "id": "O885a1J49sGk"
      }
    },
    {
      "cell_type": "markdown",
      "source": [
        "14. Valid Parenthesis\n",
        "Given a string s containing just the characters '(', ')', '{', '}', '[' and ']', determine if the input string is valid.\n",
        "\n",
        "An input string is valid if:\n",
        "\n",
        "Open brackets must be closed by the same type of brackets.\n",
        "Open brackets must be closed in the correct order.\n",
        "Every close bracket has a corresponding open bracket of the same type.\n",
        "\n",
        "\n",
        "Example 1:\n",
        "\n",
        "Input: s = \"()\"\n",
        "\n",
        "Output: true\n",
        "\n",
        "Example 2:\n",
        "\n",
        "Input: s = \"()[]{}\"\n",
        "\n",
        "Output: true\n",
        "\n",
        "Example 3:\n",
        "\n",
        "Input: s = \"(]\"\n",
        "\n",
        "Output: false\n",
        "\n",
        "Example 4:\n",
        "\n",
        "Input: s = \"([])\"\n",
        "\n",
        "Output: true\n",
        "\n",
        "\n",
        "\n",
        "Constraints:\n",
        "\n",
        "1 <= s.length <= 104\n",
        "s consists of parentheses only '()[]{}'."
      ],
      "metadata": {
        "id": "UuZEMngu1sp6"
      }
    },
    {
      "cell_type": "code",
      "source": [
        "class Solution:\n",
        "    def isValid(self, s: str) -> bool:\n",
        "        stack = []\n",
        "        bracket_map = {')': '(', '}': '{', ']': '['}\n",
        "\n",
        "        for char in s:\n",
        "            if char in bracket_map:\n",
        "                # If stack is empty, we set top_element to a dummy value '#'\n",
        "                top_element = stack.pop() if stack else '#'\n",
        "                if bracket_map[char] != top_element:\n",
        "                    return False\n",
        "            else:\n",
        "                stack.append(char)\n",
        "\n",
        "        return not stack"
      ],
      "metadata": {
        "id": "2zYzIguD9rYO"
      },
      "execution_count": null,
      "outputs": []
    },
    {
      "cell_type": "code",
      "source": [
        "# Definition for singly-linked list.\n",
        "# class ListNode:\n",
        "#     def __init__(self, val=0, next=None):\n",
        "#         self.val = val\n",
        "#         self.next = next\n",
        "class Solution:\n",
        "    def mergeTwoLists(self, list1: Optional[ListNode], list2: Optional[ListNode]) -> Optional[ListNode]:\n",
        "        # Create a dummy node to start the merged list\n",
        "        dummy = ListNode()\n",
        "        current = dummy\n",
        "\n",
        "        # While both lists are non-empty, merge them\n",
        "        while list1 and list2:\n",
        "            if list1.val < list2.val:\n",
        "                current.next = list1\n",
        "                list1 = list1.next\n",
        "            else:\n",
        "                current.next = list2\n",
        "                list2 = list2.next\n",
        "            current = current.next\n",
        "\n",
        "        # If there are remaining nodes in list1 or list2, append them\n",
        "        if list1:\n",
        "            current.next = list1\n",
        "        elif list2:\n",
        "            current.next = list2\n",
        "\n",
        "        # The merged list starts after the dummy node\n",
        "        return dummy.next\n"
      ],
      "metadata": {
        "id": "d64_eubL8qJS"
      },
      "execution_count": null,
      "outputs": []
    },
    {
      "cell_type": "markdown",
      "source": [
        "**28. Find the Index of the First Occurrence in a String**\n",
        "\n",
        "Given two strings needle and haystack, return the index of the first occurrence of needle in haystack, or -1 if needle is not part of haystack.\n",
        "\n",
        "\n",
        "\n",
        "Example 1:\n",
        "\n",
        "Input: haystack = \"sadbutsad\", needle = \"sad\"\n",
        "Output: 0\n",
        "Explanation: \"sad\" occurs at index 0 and 6.\n",
        "The first occurrence is at index 0, so we return 0.\n",
        "Example 2:\n",
        "\n",
        "Input: haystack = \"leetcode\", needle = \"leeto\"\n",
        "Output: -1\n",
        "Explanation: \"leeto\" did not occur in \"leetcode\", so we return -1.\n",
        "\n",
        "\n",
        "Constraints:\n",
        "\n",
        "1 <= haystack.length, needle.length <= 104\n",
        "haystack and needle consist of only lowercase English characters."
      ],
      "metadata": {
        "id": "Pu1B6tqOtEEr"
      }
    },
    {
      "cell_type": "code",
      "source": [
        "class Solution:\n",
        "    def strStr(self, haystack: str, needle: str) -> int:\n",
        "        return haystack.find(needle)"
      ],
      "metadata": {
        "id": "13lqR0Pw8quA"
      },
      "execution_count": 1,
      "outputs": []
    },
    {
      "cell_type": "markdown",
      "source": [
        "# 35. Search Insert Position\n",
        "Given a sorted array of distinct integers and a target value, return the index if the target is found. If not, return the index where it would be if it were inserted in order.\n",
        "\n",
        "You must write an algorithm with O(log n) runtime complexity.\n",
        "\n",
        "\n",
        "\n",
        "Example 1:\n",
        "\n",
        "Input: nums = [1,3,5,6], target = 5\n",
        "Output: 2\n",
        "Example 2:\n",
        "\n",
        "Input: nums = [1,3,5,6], target = 2\n",
        "Output: 1\n",
        "Example 3:\n",
        "\n",
        "Input: nums = [1,3,5,6], target = 7\n",
        "Output: 4\n",
        "\n",
        "\n",
        "Constraints:\n",
        "\n",
        "1 <= nums.length <= 104\n",
        "-104 <= nums[i] <= 104\n",
        "nums contains distinct values sorted in ascending order.\n",
        "-104 <= target <= 104"
      ],
      "metadata": {
        "id": "yeTMjSQb_s_0"
      }
    },
    {
      "cell_type": "code",
      "source": [
        "class Solution:\n",
        "    def searchInsert(self, nums: List[int], target: int) -> int:\n",
        "        l = 0  # Left pointer starts at the beginning of the list\n",
        "        r = len(nums) - 1  # Right pointer starts at the end of the list\n",
        "\n",
        "        while l <= r:  # Continue searching while the left pointer is less than or equal to the right pointer\n",
        "            mid = (l + r) // 2  # Calculate the middle index\n",
        "\n",
        "            if nums[mid] < target:  # If the middle element is less than the target\n",
        "                l = mid + 1  # Move the left pointer to the right of mid\n",
        "            elif nums[mid] > target:  # If the middle element is greater than the target\n",
        "                r = mid - 1  # Move the right pointer to the left of mid\n",
        "            else:  # If the middle element is equal to the target\n",
        "                return mid  # Return the index of the target\n",
        "\n",
        "        return l  # If the target is not found, return the index where it should be inserted\n"
      ],
      "metadata": {
        "id": "Rf9dJ4F__hEn"
      },
      "execution_count": null,
      "outputs": []
    },
    {
      "cell_type": "markdown",
      "source": [],
      "metadata": {
        "id": "e1sAwcqi_rmR"
      }
    },
    {
      "cell_type": "markdown",
      "source": [
        "# 58. Length of Last Word\n",
        "Given a string s consisting of words and spaces, return the length of the last word in the string.\n",
        "\n",
        "A word is a maximal\n",
        "substring\n",
        " consisting of non-space characters only.\n",
        "\n",
        "\n",
        "\n",
        "Example 1:\n",
        "\n",
        "Input: s = \"Hello World\"\n",
        "Output: 5\n",
        "Explanation: The last word is \"World\" with length 5.\n",
        "Example 2:\n",
        "\n",
        "Input: s = \"   fly me   to   the moon  \"\n",
        "Output: 4\n",
        "Explanation: The last word is \"moon\" with length 4.\n",
        "Example 3:\n",
        "\n",
        "Input: s = \"luffy is still joyboy\"\n",
        "Output: 6\n",
        "Explanation: The last word is \"joyboy\" with length 6."
      ],
      "metadata": {
        "id": "m85AzB9Jeudi"
      }
    },
    {
      "cell_type": "code",
      "source": [
        "class Solution:\n",
        "    def lengthOfLastWord(self, s: str) -> int:\n",
        "        return len((s.split())[-1])"
      ],
      "metadata": {
        "id": "z8T71zDK_wng"
      },
      "execution_count": null,
      "outputs": []
    },
    {
      "cell_type": "markdown",
      "source": [
        "# 66. Plus One\n",
        "You are given a large integer represented as an integer array digits, where each digits[i] is the ith digit of the integer. The digits are ordered from most significant to least significant in left-to-right order. The large integer does not contain any leading 0's.\n",
        "\n",
        "Increment the large integer by one and return the resulting array of digits.\n",
        "\n",
        "\n",
        "\n",
        "Example 1:\n",
        "\n",
        "Input: digits = [1,2,3]\n",
        "Output: [1,2,4]\n",
        "Explanation: The array represents the integer 123.\n",
        "Incrementing by one gives 123 + 1 = 124.\n",
        "Thus, the result should be [1,2,4].\n",
        "Example 2:\n",
        "\n",
        "Input: digits = [4,3,2,1]\n",
        "Output: [4,3,2,2]\n",
        "Explanation: The array represents the integer 4321.\n",
        "Incrementing by one gives 4321 + 1 = 4322.\n",
        "Thus, the result should be [4,3,2,2].\n",
        "Example 3:\n",
        "\n",
        "Input: digits = [9]\n",
        "Output: [1,0]\n",
        "Explanation: The array represents the integer 9.\n",
        "Incrementing by one gives 9 + 1 = 10.\n",
        "Thus, the result should be [1,0].\n",
        "\n",
        "\n",
        "Constraints:\n",
        "\n",
        "1 <= digits.length <= 100\n",
        "0 <= digits[i] <= 9\n",
        "digits does not contain any leading 0's."
      ],
      "metadata": {
        "id": "ZruY4OBNhgAX"
      }
    },
    {
      "cell_type": "code",
      "source": [
        "class Solution:\n",
        "    def plusOne(self, digits: List[int]) -> List[int]:\n",
        "        return [int(digit) for digit in str(int(''.join(map(str, digits)))+1)]"
      ],
      "metadata": {
        "id": "YSsDqKb2hejc"
      },
      "execution_count": null,
      "outputs": []
    },
    {
      "cell_type": "markdown",
      "source": [
        "# 67. Add Binary\n",
        "Given two binary strings a and b, return their sum as a binary string.\n",
        "\n",
        "\n",
        "Example 1:\n",
        "\n",
        "Input: a = \"11\", b = \"1\"\n",
        "Output: \"100\"\n",
        "Example 2:\n",
        "\n",
        "Input: a = \"1010\", b = \"1011\"\n",
        "Output: \"10101\"\n",
        "\n",
        "\n",
        "Constraints:\n",
        "\n",
        "1 <= a.length, b.length <= 104\n",
        "a and b consist only of '0' or '1' characters.\n",
        "Each string does not contain leading zeros except for the zero itself."
      ],
      "metadata": {
        "id": "KfoY-nFOkGIT"
      }
    },
    {
      "cell_type": "code",
      "source": [
        "class Solution:\n",
        "    def addBinary(self, a: str, b: str) -> str:\n",
        "        # Convert binary to integers, add them, and convert the sum back to binary\n",
        "        return bin(int(a, 2)+int(b, 2))[2:]"
      ],
      "metadata": {
        "id": "RpDCAjCCkF4w"
      },
      "execution_count": null,
      "outputs": []
    },
    {
      "cell_type": "markdown",
      "source": [
        "Given a non-negative integer x, return the square root of x rounded down to the nearest integer. The returned integer should be non-negative as well.\n",
        "\n",
        "You must not use any built-in exponent function or operator.\n",
        "\n",
        "For example, do not use pow(x, 0.5) in c++ or x ** 0.5 in python.\n",
        "\n",
        "\n",
        "Example 1:\n",
        "\n",
        "Input: x = 4\n",
        "Output: 2\n",
        "Explanation: The square root of 4 is 2, so we return 2.\n",
        "Example 2:\n",
        "\n",
        "Input: x = 8\n",
        "Output: 2\n",
        "Explanation: The square root of 8 is 2.82842..., and since we round it down to the nearest integer, 2 is returned.\n",
        "\n",
        "\n",
        "Constraints:\n",
        "\n",
        "0 <= x <= 231 - 1"
      ],
      "metadata": {
        "id": "ffmSYakGHTSz"
      }
    },
    {
      "cell_type": "code",
      "source": [
        "class Solution:\n",
        "    def mySqrt(self, x: int) -> int:\n",
        "        if x == 0 or x == 1:\n",
        "            return x\n",
        "\n",
        "        l, r = 0, x\n",
        "        result = 0\n",
        "\n",
        "        while l <= r:\n",
        "            mid = (l + r) // 2\n",
        "            if mid * mid == x:\n",
        "                return mid\n",
        "            elif mid * mid < x:\n",
        "                result = mid\n",
        "                l = mid + 1\n",
        "            else:\n",
        "                r = mid - 1\n",
        "\n",
        "        return result\n"
      ],
      "metadata": {
        "id": "d0hc70p4HVK3"
      },
      "execution_count": null,
      "outputs": []
    }
  ]
}